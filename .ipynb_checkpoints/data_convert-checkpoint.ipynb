{
 "cells": [
  {
   "cell_type": "code",
   "execution_count": 1,
   "id": "25486e9c-a71f-472d-8ea8-23633a86670e",
   "metadata": {},
   "outputs": [],
   "source": [
    "import pandas as pd"
   ]
  },
  {
   "cell_type": "code",
   "execution_count": 32,
   "id": "df415676-ff3e-4085-a212-d26e647954da",
   "metadata": {},
   "outputs": [],
   "source": [
    "# Get data\n",
    "data = pd.read_csv('tools_for_dashboard/GBV_Community_Level.csv')"
   ]
  },
  {
   "cell_type": "code",
   "execution_count": 33,
   "id": "5fa1d491-5977-4eab-93fe-41f7b361cd7a",
   "metadata": {},
   "outputs": [],
   "source": [
    "# Rename columns\n",
    "rename_map = {'General GBV Awareness': 'General GBV Awareness (%)', \n",
    "              'Sexual GBV Awareness ': 'Sexual GBV Awareness (%)', \n",
    "              'Physical GBV Awareness ': 'Physical GBV Awareness (%)',\n",
    "              'Economic GBV Awareness ':'Economic GBV Awareness (%)',\n",
    "             }\n",
    "data = data.rename(columns = rename_map)\n",
    "\n",
    "# Convert fields from string to float\n",
    "fields_to_convert = ['Sexual GBV Awareness (%)', 'Physical GBV Awareness (%)', \n",
    "                    'Economic GBV Awareness (%)', 'General GBV Awareness (%)']\n",
    "\n",
    "# data.columns.unique()\n",
    "data[fields_to_convert] = data[fields_to_convert].replace('%', '', regex = True).astype('float64')"
   ]
  },
  {
   "cell_type": "code",
   "execution_count": 36,
   "id": "88461417-fe4f-4e34-a753-246b1d9c1f08",
   "metadata": {},
   "outputs": [],
   "source": [
    "# Save output\n",
    "data.to_csv(\"gbv_among_communities.csv\", index = False)"
   ]
  },
  {
   "cell_type": "code",
   "execution_count": null,
   "id": "b0d1acc4-345c-4935-bb3f-07894fd265db",
   "metadata": {},
   "outputs": [],
   "source": []
  }
 ],
 "metadata": {
  "kernelspec": {
   "display_name": "Python 3 (ipykernel)",
   "language": "python",
   "name": "python3"
  },
  "language_info": {
   "codemirror_mode": {
    "name": "ipython",
    "version": 3
   },
   "file_extension": ".py",
   "mimetype": "text/x-python",
   "name": "python",
   "nbconvert_exporter": "python",
   "pygments_lexer": "ipython3",
   "version": "3.11.6"
  }
 },
 "nbformat": 4,
 "nbformat_minor": 5
}
